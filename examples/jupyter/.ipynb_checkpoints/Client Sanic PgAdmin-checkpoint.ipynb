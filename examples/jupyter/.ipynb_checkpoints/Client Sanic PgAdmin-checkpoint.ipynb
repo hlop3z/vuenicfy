{
 "cells": [
  {
   "cell_type": "code",
   "execution_count": 1,
   "metadata": {},
   "outputs": [],
   "source": [
    "import requests\n",
    "import datetime, time\n",
    "\n",
    "date_to_epoch = lambda s: int(time.mktime(datetime.datetime.strptime(s,\"%d/%m/%Y\").timetuple()))"
   ]
  },
  {
   "cell_type": "code",
   "execution_count": 2,
   "metadata": {},
   "outputs": [
    {
     "name": "stdout",
     "output_type": "stream",
     "text": [
      "payload = {\n",
      "    \"url\"  : \"<model>/create\",\n",
      "    \"data\" : { \"id\": 1 }\n",
      "}\n"
     ]
    }
   ],
   "source": [
    "r = requests.get( 'http://0.0.0.0:8055/' )\n",
    "d = r.json()['data']\n",
    "print( d['crud']['create'] )\n",
    "#print( d['crud']['list'] )\n",
    "#print( d['crud']['find'] )\n",
    "#print( d['crud']['update'] )\n",
    "#print( d['crud']['delete'] )"
   ]
  },
  {
   "cell_type": "code",
   "execution_count": 4,
   "metadata": {},
   "outputs": [
    {
     "data": {
      "text/plain": [
       "{'error': True,\n",
       " 'data': [\"'Sqlitemin' object has no attribute 'fetchval'\"],\n",
       " 'method': 'sqlite'}"
      ]
     },
     "execution_count": 4,
     "metadata": {},
     "output_type": "execute_result"
    }
   ],
   "source": [
    "#{\"name\": 'user1', \"dob\": 546968800}\n",
    "payload={\n",
    "    \"url\"  : \"users/create/\",\n",
    "    \"data\" : { \"name\": 'toxic', \"dob\": date_to_epoch('1/3/1905') }\n",
    "}\n",
    "r = requests.post('http://0.0.0.0:8055/post', json=payload )\n",
    "r.json()"
   ]
  },
  {
   "cell_type": "code",
   "execution_count": 108,
   "metadata": {},
   "outputs": [
    {
     "data": {
      "text/plain": [
       "{'error': False,\n",
       " 'data': [{'id': 2, 'name': 'toxic', 'dob': 446968800},\n",
       "  {'id': 3, 'name': 'toxic', 'dob': 446968800},\n",
       "  {'id': 4, 'name': 'toxic', 'dob': 446968800},\n",
       "  {'id': 5, 'name': 'toxic', 'dob': 446968800},\n",
       "  {'id': 6, 'name': 'toxic', 'dob': 446968800},\n",
       "  {'id': 7, 'name': 'toxic', 'dob': 446968800},\n",
       "  {'id': 8, 'name': 'toxic', 'dob': 446968800},\n",
       "  {'id': 9, 'name': 'toxic', 'dob': 446968800},\n",
       "  {'id': 10, 'name': 'toxic', 'dob': 446968800},\n",
       "  {'id': 11, 'name': 'toxic', 'dob': 446968800},\n",
       "  {'id': 12, 'name': 'hector', 'dob': 4999999},\n",
       "  {'id': 13, 'name': 'hector', 'dob': 4999999},\n",
       "  {'id': 14, 'name': 'hector', 'dob': 4999999},\n",
       "  {'id': 15, 'name': 'hector', 'dob': 4999999},\n",
       "  {'id': 16, 'name': 'toxic', 'dob': -2046103200},\n",
       "  {'id': 1, 'name': 'user-1601265869', 'dob': 446968800}],\n",
       " 'method': 'sql-where'}"
      ]
     },
     "execution_count": 108,
     "metadata": {},
     "output_type": "execute_result"
    }
   ],
   "source": [
    "#{\"name\": 'user1', \"dob\": 546968800}\n",
    "payload={\n",
    "    \"url\"  : \"users/custom/custom_handler/\",\n",
    "    \"data\" : { \"name\": f'user-{ int(time.time()) }', \"dob\": date_to_epoch('1/3/2005') }\n",
    "}\n",
    "r = requests.post('http://0.0.0.0:8055/post', json=payload )\n",
    "r.json()"
   ]
  },
  {
   "cell_type": "code",
   "execution_count": 82,
   "metadata": {},
   "outputs": [
    {
     "data": {
      "text/plain": [
       "{'error': False,\n",
       " 'data': {'form': {'name': 'user-1601265869'}, 'query': {'id': {'eq': 1}}},\n",
       " 'method': 'sql-update'}"
      ]
     },
     "execution_count": 82,
     "metadata": {},
     "output_type": "execute_result"
    }
   ],
   "source": [
    "payload={\n",
    "    \"url\"  : \"users/update/\",\n",
    "    \"data\" : {\n",
    "        \"form\"  : { \"name\": f'user-{ int(time.time()) }' },\n",
    "        \"query\" : { \"id\": { \"eq\" : 1 } }\n",
    "    }\n",
    "}\n",
    "r = requests.post('http://0.0.0.0:8055/post', json=payload )\n",
    "r.json()"
   ]
  },
  {
   "cell_type": "code",
   "execution_count": 94,
   "metadata": {},
   "outputs": [
    {
     "data": {
      "text/plain": [
       "{'error': False,\n",
       " 'data': {'id': 1, 'name': 'user-1601265869', 'dob': 446968800},\n",
       " 'method': 'sql-where'}"
      ]
     },
     "execution_count": 94,
     "metadata": {},
     "output_type": "execute_result"
    }
   ],
   "source": [
    "payload={\n",
    "    \"url\"  : \"users/find/\",\n",
    "    \"data\" : { \n",
    "        \"fields\": ['*'],\n",
    "        \"query\" : [\n",
    "            { \"id\": { \"eq\" : 100000 } },\n",
    "            \"or\",\n",
    "            {\"id\": { \"in\" : [1,2,3,4] }},\n",
    "        ]\n",
    "    }\n",
    "}\n",
    "r = requests.post('http://0.0.0.0:8055/post', json=payload )\n",
    "r.json()"
   ]
  },
  {
   "cell_type": "code",
   "execution_count": 98,
   "metadata": {},
   "outputs": [
    {
     "data": {
      "text/plain": [
       "{'error': False,\n",
       " 'data': [{'id': 2, 'name': 'toxic', 'dob': 446968800},\n",
       "  {'id': 3, 'name': 'toxic', 'dob': 446968800},\n",
       "  {'id': 4, 'name': 'toxic', 'dob': 446968800},\n",
       "  {'id': 5, 'name': 'toxic', 'dob': 446968800},\n",
       "  {'id': 6, 'name': 'toxic', 'dob': 446968800},\n",
       "  {'id': 7, 'name': 'toxic', 'dob': 446968800},\n",
       "  {'id': 8, 'name': 'toxic', 'dob': 446968800},\n",
       "  {'id': 9, 'name': 'toxic', 'dob': 446968800},\n",
       "  {'id': 10, 'name': 'toxic', 'dob': 446968800},\n",
       "  {'id': 11, 'name': 'toxic', 'dob': 446968800},\n",
       "  {'id': 16, 'name': 'toxic', 'dob': -2046103200}],\n",
       " 'method': 'sql-where'}"
      ]
     },
     "execution_count": 98,
     "metadata": {},
     "output_type": "execute_result"
    }
   ],
   "source": [
    "payload={\n",
    "    \"url\"  : \"users/list/\",\n",
    "    \"data\" : { \n",
    "        \"fields\": ['*'],\n",
    "        \"query\" : { \"name\": { \"eq\" : 'toxic' } }\n",
    "    }\n",
    "}\n",
    "r = requests.post('http://0.0.0.0:8055/post', json=payload )\n",
    "r.json()"
   ]
  },
  {
   "cell_type": "code",
   "execution_count": null,
   "metadata": {},
   "outputs": [],
   "source": [
    "create      (**{ \"model\": \"name\", \"form\": {} })\n",
    "read_row    (**{ \"model\": \"name\", \"fields\": ['*'], \"query\": {} })\n",
    "read        (**{ \"model\": \"name\", \"fields\": ['*'], \"query\": {} })\n",
    "update      (**{ \"model\": \"name\", \"form\": {}, \"query\": {} })\n",
    "delete      (**{ \"model\": \"name\", \"query\": {} })\n",
    "    \n"
   ]
  }
 ],
 "metadata": {
  "kernelspec": {
   "display_name": "Python 3",
   "language": "python",
   "name": "python3"
  },
  "language_info": {
   "codemirror_mode": {
    "name": "ipython",
    "version": 3
   },
   "file_extension": ".py",
   "mimetype": "text/x-python",
   "name": "python",
   "nbconvert_exporter": "python",
   "pygments_lexer": "ipython3",
   "version": "3.7.3"
  }
 },
 "nbformat": 4,
 "nbformat_minor": 2
}
