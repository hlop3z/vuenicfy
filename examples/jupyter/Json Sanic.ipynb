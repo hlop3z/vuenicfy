{
 "cells": [
  {
   "cell_type": "code",
   "execution_count": 57,
   "metadata": {},
   "outputs": [],
   "source": [
    "import requests\n",
    "import datetime, time"
   ]
  },
  {
   "cell_type": "code",
   "execution_count": 73,
   "metadata": {},
   "outputs": [
    {
     "data": {
      "text/plain": [
       "{'error': False,\n",
       " 'data': [{'id': 1, 'name': 'toxic', 'dob': 446968800},\n",
       "  {'id': 2, 'name': 'toxic', 'dob': 446968800},\n",
       "  {'id': 3, 'name': 'toxic', 'dob': 446968800},\n",
       "  {'id': 4, 'name': 'toxic', 'dob': 446968800},\n",
       "  {'id': 5, 'name': 'toxic', 'dob': 446968800},\n",
       "  {'id': 6, 'name': 'toxic', 'dob': 446968800},\n",
       "  {'id': 7, 'name': 'toxic', 'dob': 446968800}],\n",
       " 'method': 'test'}"
      ]
     },
     "execution_count": 73,
     "metadata": {},
     "output_type": "execute_result"
    }
   ],
   "source": [
    "r = requests.get('http://0.0.0.0:8055/')\n",
    "r.json()"
   ]
  },
  {
   "cell_type": "code",
   "execution_count": 78,
   "metadata": {
    "scrolled": true
   },
   "outputs": [
    {
     "data": {
      "text/plain": [
       "{'error': False, 'data': 11, 'method': 'test'}"
      ]
     },
     "execution_count": 78,
     "metadata": {},
     "output_type": "execute_result"
    }
   ],
   "source": [
    "date_to_epoch = lambda s: int(time.mktime(datetime.datetime.strptime(s,\"%d/%m/%Y\").timetuple()))\n",
    "\n",
    "payload={\n",
    "    \"url\"  : \"users/create\",\n",
    "    \"data\" : { \"name\": 'toxic', \"dob\": date_to_epoch('1/3/1984') }\n",
    "}\n",
    "r = requests.post('http://0.0.0.0:8055/post', json=payload )\n",
    "r.json()"
   ]
  },
  {
   "cell_type": "code",
   "execution_count": 60,
   "metadata": {},
   "outputs": [
    {
     "data": {
      "text/plain": [
       "datetime.datetime(1984, 3, 1, 0, 0)"
      ]
     },
     "execution_count": 60,
     "metadata": {},
     "output_type": "execute_result"
    }
   ],
   "source": [
    "datetime.datetime.fromtimestamp( t )"
   ]
  },
  {
   "cell_type": "code",
   "execution_count": null,
   "metadata": {},
   "outputs": [],
   "source": []
  }
 ],
 "metadata": {
  "kernelspec": {
   "display_name": "Python 3",
   "language": "python",
   "name": "python3"
  },
  "language_info": {
   "codemirror_mode": {
    "name": "ipython",
    "version": 3
   },
   "file_extension": ".py",
   "mimetype": "text/x-python",
   "name": "python",
   "nbconvert_exporter": "python",
   "pygments_lexer": "ipython3",
   "version": "3.7.3"
  }
 },
 "nbformat": 4,
 "nbformat_minor": 2
}
